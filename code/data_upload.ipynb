{
 "cells": [
  {
   "cell_type": "markdown",
   "id": "647e59dc",
   "metadata": {},
   "source": [
    "# How to Upload and Download Data from MSCF Server"
   ]
  },
  {
   "cell_type": "code",
   "execution_count": 14,
   "id": "a3ebecd8",
   "metadata": {},
   "outputs": [],
   "source": [
    "import paramiko\n",
    "import pandas as pd\n",
    "import io\n",
    "import os\n",
    "from scripts import sftp_utils # This imports my functions from sftp_utils.py\n",
    "from dotenv import load_dotenv "
   ]
  },
  {
   "cell_type": "markdown",
   "id": "60a38d43",
   "metadata": {},
   "source": [
    "Define your username and password. You may have to go through the SSH terminal manually first to reset your password."
   ]
  },
  {
   "cell_type": "code",
   "execution_count": 5,
   "id": "ece3f9bb",
   "metadata": {},
   "outputs": [],
   "source": [
    "load_dotenv()\n",
    "username = os.getenv('SERVER_USERNAME')\n",
    "password = os.getenv('SERVER_PASSWORD')"
   ]
  },
  {
   "cell_type": "code",
   "execution_count": 6,
   "id": "8adf131b",
   "metadata": {},
   "outputs": [
    {
     "data": {
      "text/html": [
       "<div>\n",
       "<style scoped>\n",
       "    .dataframe tbody tr th:only-of-type {\n",
       "        vertical-align: middle;\n",
       "    }\n",
       "\n",
       "    .dataframe tbody tr th {\n",
       "        vertical-align: top;\n",
       "    }\n",
       "\n",
       "    .dataframe thead th {\n",
       "        text-align: right;\n",
       "    }\n",
       "</style>\n",
       "<table border=\"1\" class=\"dataframe\">\n",
       "  <thead>\n",
       "    <tr style=\"text-align: right;\">\n",
       "      <th></th>\n",
       "      <th>Id</th>\n",
       "      <th>MSSubClass</th>\n",
       "      <th>LotFrontage</th>\n",
       "      <th>LotArea</th>\n",
       "      <th>Street</th>\n",
       "      <th>BldgType</th>\n",
       "      <th>OverallQual</th>\n",
       "      <th>YearBuilt</th>\n",
       "      <th>TotalBsmtSF</th>\n",
       "      <th>FullBath</th>\n",
       "      <th>HalfBath</th>\n",
       "      <th>Fireplaces</th>\n",
       "      <th>FireplaceQu</th>\n",
       "      <th>GarageType</th>\n",
       "      <th>GarageYrBlt</th>\n",
       "      <th>GarageFinish</th>\n",
       "      <th>GarageCars</th>\n",
       "      <th>GarageArea</th>\n",
       "      <th>SalePrice</th>\n",
       "    </tr>\n",
       "  </thead>\n",
       "  <tbody>\n",
       "    <tr>\n",
       "      <th>0</th>\n",
       "      <td>1</td>\n",
       "      <td>60</td>\n",
       "      <td>65.0</td>\n",
       "      <td>8450</td>\n",
       "      <td>Pave</td>\n",
       "      <td>1Fam</td>\n",
       "      <td>7</td>\n",
       "      <td>2003</td>\n",
       "      <td>856</td>\n",
       "      <td>2</td>\n",
       "      <td>1</td>\n",
       "      <td>0</td>\n",
       "      <td>NaN</td>\n",
       "      <td>Attchd</td>\n",
       "      <td>2003.0</td>\n",
       "      <td>RFn</td>\n",
       "      <td>2</td>\n",
       "      <td>548</td>\n",
       "      <td>208500</td>\n",
       "    </tr>\n",
       "    <tr>\n",
       "      <th>1</th>\n",
       "      <td>2</td>\n",
       "      <td>20</td>\n",
       "      <td>80.0</td>\n",
       "      <td>9600</td>\n",
       "      <td>Pave</td>\n",
       "      <td>1Fam</td>\n",
       "      <td>6</td>\n",
       "      <td>1976</td>\n",
       "      <td>1262</td>\n",
       "      <td>2</td>\n",
       "      <td>0</td>\n",
       "      <td>1</td>\n",
       "      <td>TA</td>\n",
       "      <td>Attchd</td>\n",
       "      <td>1976.0</td>\n",
       "      <td>RFn</td>\n",
       "      <td>2</td>\n",
       "      <td>460</td>\n",
       "      <td>181500</td>\n",
       "    </tr>\n",
       "    <tr>\n",
       "      <th>2</th>\n",
       "      <td>3</td>\n",
       "      <td>60</td>\n",
       "      <td>68.0</td>\n",
       "      <td>11250</td>\n",
       "      <td>Pave</td>\n",
       "      <td>1Fam</td>\n",
       "      <td>7</td>\n",
       "      <td>2001</td>\n",
       "      <td>920</td>\n",
       "      <td>2</td>\n",
       "      <td>1</td>\n",
       "      <td>1</td>\n",
       "      <td>TA</td>\n",
       "      <td>Attchd</td>\n",
       "      <td>2001.0</td>\n",
       "      <td>RFn</td>\n",
       "      <td>2</td>\n",
       "      <td>608</td>\n",
       "      <td>223500</td>\n",
       "    </tr>\n",
       "    <tr>\n",
       "      <th>3</th>\n",
       "      <td>4</td>\n",
       "      <td>70</td>\n",
       "      <td>60.0</td>\n",
       "      <td>9550</td>\n",
       "      <td>Pave</td>\n",
       "      <td>1Fam</td>\n",
       "      <td>7</td>\n",
       "      <td>1915</td>\n",
       "      <td>756</td>\n",
       "      <td>1</td>\n",
       "      <td>0</td>\n",
       "      <td>1</td>\n",
       "      <td>Gd</td>\n",
       "      <td>Detchd</td>\n",
       "      <td>1998.0</td>\n",
       "      <td>Unf</td>\n",
       "      <td>3</td>\n",
       "      <td>642</td>\n",
       "      <td>140000</td>\n",
       "    </tr>\n",
       "    <tr>\n",
       "      <th>4</th>\n",
       "      <td>5</td>\n",
       "      <td>60</td>\n",
       "      <td>84.0</td>\n",
       "      <td>14260</td>\n",
       "      <td>Pave</td>\n",
       "      <td>1Fam</td>\n",
       "      <td>8</td>\n",
       "      <td>2000</td>\n",
       "      <td>1145</td>\n",
       "      <td>2</td>\n",
       "      <td>1</td>\n",
       "      <td>1</td>\n",
       "      <td>TA</td>\n",
       "      <td>Attchd</td>\n",
       "      <td>2000.0</td>\n",
       "      <td>RFn</td>\n",
       "      <td>3</td>\n",
       "      <td>836</td>\n",
       "      <td>250000</td>\n",
       "    </tr>\n",
       "  </tbody>\n",
       "</table>\n",
       "</div>"
      ],
      "text/plain": [
       "   Id  MSSubClass  LotFrontage  LotArea Street BldgType  OverallQual  \\\n",
       "0   1          60         65.0     8450   Pave     1Fam            7   \n",
       "1   2          20         80.0     9600   Pave     1Fam            6   \n",
       "2   3          60         68.0    11250   Pave     1Fam            7   \n",
       "3   4          70         60.0     9550   Pave     1Fam            7   \n",
       "4   5          60         84.0    14260   Pave     1Fam            8   \n",
       "\n",
       "   YearBuilt  TotalBsmtSF  FullBath  HalfBath  Fireplaces FireplaceQu  \\\n",
       "0       2003          856         2         1           0         NaN   \n",
       "1       1976         1262         2         0           1          TA   \n",
       "2       2001          920         2         1           1          TA   \n",
       "3       1915          756         1         0           1          Gd   \n",
       "4       2000         1145         2         1           1          TA   \n",
       "\n",
       "  GarageType  GarageYrBlt GarageFinish  GarageCars  GarageArea  SalePrice  \n",
       "0     Attchd       2003.0          RFn           2         548     208500  \n",
       "1     Attchd       1976.0          RFn           2         460     181500  \n",
       "2     Attchd       2001.0          RFn           2         608     223500  \n",
       "3     Detchd       1998.0          Unf           3         642     140000  \n",
       "4     Attchd       2000.0          RFn           3         836     250000  "
      ]
     },
     "execution_count": 6,
     "metadata": {},
     "output_type": "execute_result"
    }
   ],
   "source": [
    "test_df = pd.read_csv(\"C:/Users/talla/Documents/Machine Learning/housing.csv\")\n",
    "test_df.head()"
   ]
  },
  {
   "cell_type": "markdown",
   "id": "dc7e075f",
   "metadata": {},
   "source": [
    "Upload a pandas dataframe as a csv file to the server"
   ]
  },
  {
   "cell_type": "markdown",
   "id": "45efe2f3",
   "metadata": {},
   "source": [
    "There are two main data directories to store data:\n",
    "\n",
    "- /home/ktallam/Returns\n",
    "- /home/ktallam/News"
   ]
  },
  {
   "cell_type": "code",
   "execution_count": 18,
   "id": "d3885a49",
   "metadata": {},
   "outputs": [
    {
     "name": "stdout",
     "output_type": "stream",
     "text": [
      "Converting DataFrame to CSV in memory...\n",
      "Connecting to mscffiles.stat.cmu.edu...\n",
      "Connection successful!\n",
      "Uploading to /home/ktallam/Returns/SPYReturns.csv...\n",
      "Upload complete!\n",
      "Connection closed.\n"
     ]
    },
    {
     "data": {
      "text/plain": [
       "True"
      ]
     },
     "execution_count": 18,
     "metadata": {},
     "output_type": "execute_result"
    }
   ],
   "source": [
    "remote_path = '/home/ktallam/Returns/SPYReturns.csv'\n",
    "sftp_utils.upload_df_as_csv(pd.read_csv(\"C:/Users/talla/Downloads/Capstone006Returns.zip\"), username, password, remote_path)"
   ]
  },
  {
   "cell_type": "markdown",
   "id": "162789d5",
   "metadata": {},
   "source": [
    "Download a csv file from the server as a pandas dataframe"
   ]
  },
  {
   "cell_type": "code",
   "execution_count": 19,
   "id": "249c0dd6",
   "metadata": {},
   "outputs": [
    {
     "name": "stdout",
     "output_type": "stream",
     "text": [
      "Connecting to mscffiles.stat.cmu.edu...\n",
      "Connection successful!\n",
      "Downloading and reading /home/ktallam/Returns/SPYReturns.csv...\n",
      "Connection closed.\n"
     ]
    },
    {
     "ename": "KeyboardInterrupt",
     "evalue": "",
     "output_type": "error",
     "traceback": [
      "\u001b[31m---------------------------------------------------------------------------\u001b[39m",
      "\u001b[31mKeyboardInterrupt\u001b[39m                         Traceback (most recent call last)",
      "\u001b[36mCell\u001b[39m\u001b[36m \u001b[39m\u001b[32mIn[19]\u001b[39m\u001b[32m, line 1\u001b[39m\n\u001b[32m----> \u001b[39m\u001b[32m1\u001b[39m spy_returns_df = \u001b[43msftp_utils\u001b[49m\u001b[43m.\u001b[49m\u001b[43mdownload_csv_as_df\u001b[49m\u001b[43m(\u001b[49m\u001b[43musername\u001b[49m\u001b[43m,\u001b[49m\u001b[43m \u001b[49m\u001b[43mpassword\u001b[49m\u001b[43m,\u001b[49m\u001b[43m \u001b[49m\u001b[43mremote_path\u001b[49m\u001b[43m)\u001b[49m\n\u001b[32m      2\u001b[39m spy_returns_df.head()\n",
      "\u001b[36mFile \u001b[39m\u001b[32mc:\\Users\\talla\\ML-Capstone-Project-006\\code\\scripts\\sftp_utils.py:93\u001b[39m, in \u001b[36mdownload_csv_as_df\u001b[39m\u001b[34m(username, password, remote_path, hostname, port)\u001b[39m\n\u001b[32m     89\u001b[39m \u001b[38;5;28mprint\u001b[39m(\u001b[33mf\u001b[39m\u001b[33m\"\u001b[39m\u001b[33mDownloading and reading \u001b[39m\u001b[38;5;132;01m{\u001b[39;00mremote_path\u001b[38;5;132;01m}\u001b[39;00m\u001b[33m...\u001b[39m\u001b[33m\"\u001b[39m)\n\u001b[32m     91\u001b[39m \u001b[38;5;28;01mwith\u001b[39;00m sftp_client.open(remote_path, \u001b[33m'\u001b[39m\u001b[33mr\u001b[39m\u001b[33m'\u001b[39m) \u001b[38;5;28;01mas\u001b[39;00m remote_file:\n\u001b[32m     92\u001b[39m     \u001b[38;5;66;03m# Read the file content into an in-memory text buffer\u001b[39;00m\n\u001b[32m---> \u001b[39m\u001b[32m93\u001b[39m     csv_buffer = io.StringIO(\u001b[43mremote_file\u001b[49m\u001b[43m.\u001b[49m\u001b[43mread\u001b[49m\u001b[43m(\u001b[49m\u001b[43m)\u001b[49m.decode(\u001b[33m'\u001b[39m\u001b[33mutf-8\u001b[39m\u001b[33m'\u001b[39m))\n\u001b[32m     95\u001b[39m sftp_client.close()\n\u001b[32m     97\u001b[39m \u001b[38;5;66;03m# 3. Load the buffer into a Pandas DataFrame\u001b[39;00m\n\u001b[32m     98\u001b[39m \u001b[38;5;66;03m# Rewind the buffer to the beginning before reading\u001b[39;00m\n",
      "\u001b[36mFile \u001b[39m\u001b[32mc:\\Users\\talla\\ML-Capstone-Project-006\\venv\\Lib\\site-packages\\paramiko\\file.py:184\u001b[39m, in \u001b[36mBufferedFile.read\u001b[39m\u001b[34m(self, size)\u001b[39m\n\u001b[32m    182\u001b[39m \u001b[38;5;28;01mwhile\u001b[39;00m \u001b[38;5;28;01mTrue\u001b[39;00m:\n\u001b[32m    183\u001b[39m     \u001b[38;5;28;01mtry\u001b[39;00m:\n\u001b[32m--> \u001b[39m\u001b[32m184\u001b[39m         new_data = \u001b[38;5;28;43mself\u001b[39;49m\u001b[43m.\u001b[49m\u001b[43m_read\u001b[49m\u001b[43m(\u001b[49m\u001b[38;5;28;43mself\u001b[39;49m\u001b[43m.\u001b[49m\u001b[43m_DEFAULT_BUFSIZE\u001b[49m\u001b[43m)\u001b[49m\n\u001b[32m    185\u001b[39m     \u001b[38;5;28;01mexcept\u001b[39;00m \u001b[38;5;167;01mEOFError\u001b[39;00m:\n\u001b[32m    186\u001b[39m         new_data = \u001b[38;5;28;01mNone\u001b[39;00m\n",
      "\u001b[36mFile \u001b[39m\u001b[32mc:\\Users\\talla\\ML-Capstone-Project-006\\venv\\Lib\\site-packages\\paramiko\\sftp_file.py:185\u001b[39m, in \u001b[36mSFTPFile._read\u001b[39m\u001b[34m(self, size)\u001b[39m\n\u001b[32m    183\u001b[39m     \u001b[38;5;28;01mif\u001b[39;00m data \u001b[38;5;129;01mis\u001b[39;00m \u001b[38;5;129;01mnot\u001b[39;00m \u001b[38;5;28;01mNone\u001b[39;00m:\n\u001b[32m    184\u001b[39m         \u001b[38;5;28;01mreturn\u001b[39;00m data\n\u001b[32m--> \u001b[39m\u001b[32m185\u001b[39m t, msg = \u001b[38;5;28;43mself\u001b[39;49m\u001b[43m.\u001b[49m\u001b[43msftp\u001b[49m\u001b[43m.\u001b[49m\u001b[43m_request\u001b[49m\u001b[43m(\u001b[49m\n\u001b[32m    186\u001b[39m \u001b[43m    \u001b[49m\u001b[43mCMD_READ\u001b[49m\u001b[43m,\u001b[49m\u001b[43m \u001b[49m\u001b[38;5;28;43mself\u001b[39;49m\u001b[43m.\u001b[49m\u001b[43mhandle\u001b[49m\u001b[43m,\u001b[49m\u001b[43m \u001b[49m\u001b[43mint64\u001b[49m\u001b[43m(\u001b[49m\u001b[38;5;28;43mself\u001b[39;49m\u001b[43m.\u001b[49m\u001b[43m_realpos\u001b[49m\u001b[43m)\u001b[49m\u001b[43m,\u001b[49m\u001b[43m \u001b[49m\u001b[38;5;28;43mint\u001b[39;49m\u001b[43m(\u001b[49m\u001b[43msize\u001b[49m\u001b[43m)\u001b[49m\n\u001b[32m    187\u001b[39m \u001b[43m\u001b[49m\u001b[43m)\u001b[49m\n\u001b[32m    188\u001b[39m \u001b[38;5;28;01mif\u001b[39;00m t != CMD_DATA:\n\u001b[32m    189\u001b[39m     \u001b[38;5;28;01mraise\u001b[39;00m SFTPError(\u001b[33m\"\u001b[39m\u001b[33mExpected data\u001b[39m\u001b[33m\"\u001b[39m)\n",
      "\u001b[36mFile \u001b[39m\u001b[32mc:\\Users\\talla\\ML-Capstone-Project-006\\venv\\Lib\\site-packages\\paramiko\\sftp_client.py:857\u001b[39m, in \u001b[36mSFTPClient._request\u001b[39m\u001b[34m(self, t, *args)\u001b[39m\n\u001b[32m    855\u001b[39m \u001b[38;5;28;01mdef\u001b[39;00m\u001b[38;5;250m \u001b[39m\u001b[34m_request\u001b[39m(\u001b[38;5;28mself\u001b[39m, t, *args):\n\u001b[32m    856\u001b[39m     num = \u001b[38;5;28mself\u001b[39m._async_request(\u001b[38;5;28mtype\u001b[39m(\u001b[38;5;28;01mNone\u001b[39;00m), t, *args)\n\u001b[32m--> \u001b[39m\u001b[32m857\u001b[39m     \u001b[38;5;28;01mreturn\u001b[39;00m \u001b[38;5;28;43mself\u001b[39;49m\u001b[43m.\u001b[49m\u001b[43m_read_response\u001b[49m\u001b[43m(\u001b[49m\u001b[43mnum\u001b[49m\u001b[43m)\u001b[49m\n",
      "\u001b[36mFile \u001b[39m\u001b[32mc:\\Users\\talla\\ML-Capstone-Project-006\\venv\\Lib\\site-packages\\paramiko\\sftp_client.py:887\u001b[39m, in \u001b[36mSFTPClient._read_response\u001b[39m\u001b[34m(self, waitfor)\u001b[39m\n\u001b[32m    885\u001b[39m \u001b[38;5;28;01mwhile\u001b[39;00m \u001b[38;5;28;01mTrue\u001b[39;00m:\n\u001b[32m    886\u001b[39m     \u001b[38;5;28;01mtry\u001b[39;00m:\n\u001b[32m--> \u001b[39m\u001b[32m887\u001b[39m         t, data = \u001b[38;5;28;43mself\u001b[39;49m\u001b[43m.\u001b[49m\u001b[43m_read_packet\u001b[49m\u001b[43m(\u001b[49m\u001b[43m)\u001b[49m\n\u001b[32m    888\u001b[39m     \u001b[38;5;28;01mexcept\u001b[39;00m \u001b[38;5;167;01mEOFError\u001b[39;00m \u001b[38;5;28;01mas\u001b[39;00m e:\n\u001b[32m    889\u001b[39m         \u001b[38;5;28;01mraise\u001b[39;00m SSHException(\u001b[33m\"\u001b[39m\u001b[33mServer connection dropped: \u001b[39m\u001b[38;5;132;01m{}\u001b[39;00m\u001b[33m\"\u001b[39m.format(e))\n",
      "\u001b[36mFile \u001b[39m\u001b[32mc:\\Users\\talla\\ML-Capstone-Project-006\\venv\\Lib\\site-packages\\paramiko\\sftp.py:212\u001b[39m, in \u001b[36mBaseSFTP._read_packet\u001b[39m\u001b[34m(self)\u001b[39m\n\u001b[32m    211\u001b[39m \u001b[38;5;28;01mdef\u001b[39;00m\u001b[38;5;250m \u001b[39m\u001b[34m_read_packet\u001b[39m(\u001b[38;5;28mself\u001b[39m):\n\u001b[32m--> \u001b[39m\u001b[32m212\u001b[39m     x = \u001b[38;5;28;43mself\u001b[39;49m\u001b[43m.\u001b[49m\u001b[43m_read_all\u001b[49m\u001b[43m(\u001b[49m\u001b[32;43m4\u001b[39;49m\u001b[43m)\u001b[49m\n\u001b[32m    213\u001b[39m     \u001b[38;5;66;03m# most sftp servers won't accept packets larger than about 32k, so\u001b[39;00m\n\u001b[32m    214\u001b[39m     \u001b[38;5;66;03m# anything with the high byte set (> 16MB) is just garbage.\u001b[39;00m\n\u001b[32m    215\u001b[39m     \u001b[38;5;28;01mif\u001b[39;00m byte_ord(x[\u001b[32m0\u001b[39m]):\n",
      "\u001b[36mFile \u001b[39m\u001b[32mc:\\Users\\talla\\ML-Capstone-Project-006\\venv\\Lib\\site-packages\\paramiko\\sftp.py:196\u001b[39m, in \u001b[36mBaseSFTP._read_all\u001b[39m\u001b[34m(self, n)\u001b[39m\n\u001b[32m    194\u001b[39m             \u001b[38;5;28;01mbreak\u001b[39;00m\n\u001b[32m    195\u001b[39m \u001b[38;5;28;01melse\u001b[39;00m:\n\u001b[32m--> \u001b[39m\u001b[32m196\u001b[39m     x = \u001b[38;5;28;43mself\u001b[39;49m\u001b[43m.\u001b[49m\u001b[43msock\u001b[49m\u001b[43m.\u001b[49m\u001b[43mrecv\u001b[49m\u001b[43m(\u001b[49m\u001b[43mn\u001b[49m\u001b[43m)\u001b[49m\n\u001b[32m    198\u001b[39m \u001b[38;5;28;01mif\u001b[39;00m \u001b[38;5;28mlen\u001b[39m(x) == \u001b[32m0\u001b[39m:\n\u001b[32m    199\u001b[39m     \u001b[38;5;28;01mraise\u001b[39;00m \u001b[38;5;167;01mEOFError\u001b[39;00m()\n",
      "\u001b[36mFile \u001b[39m\u001b[32mc:\\Users\\talla\\ML-Capstone-Project-006\\venv\\Lib\\site-packages\\paramiko\\channel.py:697\u001b[39m, in \u001b[36mChannel.recv\u001b[39m\u001b[34m(self, nbytes)\u001b[39m\n\u001b[32m    684\u001b[39m \u001b[38;5;250m\u001b[39m\u001b[33;03m\"\"\"\u001b[39;00m\n\u001b[32m    685\u001b[39m \u001b[33;03mReceive data from the channel.  The return value is a string\u001b[39;00m\n\u001b[32m    686\u001b[39m \u001b[33;03mrepresenting the data received.  The maximum amount of data to be\u001b[39;00m\n\u001b[32m   (...)\u001b[39m\u001b[32m    694\u001b[39m \u001b[33;03m    if no data is ready before the timeout set by `settimeout`.\u001b[39;00m\n\u001b[32m    695\u001b[39m \u001b[33;03m\"\"\"\u001b[39;00m\n\u001b[32m    696\u001b[39m \u001b[38;5;28;01mtry\u001b[39;00m:\n\u001b[32m--> \u001b[39m\u001b[32m697\u001b[39m     out = \u001b[38;5;28;43mself\u001b[39;49m\u001b[43m.\u001b[49m\u001b[43min_buffer\u001b[49m\u001b[43m.\u001b[49m\u001b[43mread\u001b[49m\u001b[43m(\u001b[49m\u001b[43mnbytes\u001b[49m\u001b[43m,\u001b[49m\u001b[43m \u001b[49m\u001b[38;5;28;43mself\u001b[39;49m\u001b[43m.\u001b[49m\u001b[43mtimeout\u001b[49m\u001b[43m)\u001b[49m\n\u001b[32m    698\u001b[39m \u001b[38;5;28;01mexcept\u001b[39;00m PipeTimeout:\n\u001b[32m    699\u001b[39m     \u001b[38;5;28;01mraise\u001b[39;00m socket.timeout()\n",
      "\u001b[36mFile \u001b[39m\u001b[32mc:\\Users\\talla\\ML-Capstone-Project-006\\venv\\Lib\\site-packages\\paramiko\\buffered_pipe.py:150\u001b[39m, in \u001b[36mBufferedPipe.read\u001b[39m\u001b[34m(self, nbytes, timeout)\u001b[39m\n\u001b[32m    148\u001b[39m \u001b[38;5;28;01mwhile\u001b[39;00m (\u001b[38;5;28mlen\u001b[39m(\u001b[38;5;28mself\u001b[39m._buffer) == \u001b[32m0\u001b[39m) \u001b[38;5;129;01mand\u001b[39;00m \u001b[38;5;129;01mnot\u001b[39;00m \u001b[38;5;28mself\u001b[39m._closed:\n\u001b[32m    149\u001b[39m     then = time.time()\n\u001b[32m--> \u001b[39m\u001b[32m150\u001b[39m     \u001b[38;5;28;43mself\u001b[39;49m\u001b[43m.\u001b[49m\u001b[43m_cv\u001b[49m\u001b[43m.\u001b[49m\u001b[43mwait\u001b[49m\u001b[43m(\u001b[49m\u001b[43mtimeout\u001b[49m\u001b[43m)\u001b[49m\n\u001b[32m    151\u001b[39m     \u001b[38;5;28;01mif\u001b[39;00m timeout \u001b[38;5;129;01mis\u001b[39;00m \u001b[38;5;129;01mnot\u001b[39;00m \u001b[38;5;28;01mNone\u001b[39;00m:\n\u001b[32m    152\u001b[39m         timeout -= time.time() - then\n",
      "\u001b[36mFile \u001b[39m\u001b[32m~\\AppData\\Local\\Programs\\Python\\Python313\\Lib\\threading.py:359\u001b[39m, in \u001b[36mCondition.wait\u001b[39m\u001b[34m(self, timeout)\u001b[39m\n\u001b[32m    357\u001b[39m \u001b[38;5;28;01mtry\u001b[39;00m:    \u001b[38;5;66;03m# restore state no matter what (e.g., KeyboardInterrupt)\u001b[39;00m\n\u001b[32m    358\u001b[39m     \u001b[38;5;28;01mif\u001b[39;00m timeout \u001b[38;5;129;01mis\u001b[39;00m \u001b[38;5;28;01mNone\u001b[39;00m:\n\u001b[32m--> \u001b[39m\u001b[32m359\u001b[39m         \u001b[43mwaiter\u001b[49m\u001b[43m.\u001b[49m\u001b[43macquire\u001b[49m\u001b[43m(\u001b[49m\u001b[43m)\u001b[49m\n\u001b[32m    360\u001b[39m         gotit = \u001b[38;5;28;01mTrue\u001b[39;00m\n\u001b[32m    361\u001b[39m     \u001b[38;5;28;01melse\u001b[39;00m:\n",
      "\u001b[31mKeyboardInterrupt\u001b[39m: "
     ]
    }
   ],
   "source": [
    "spy_returns_df = sftp_utils.download_csv_as_df(username, password, remote_path)\n",
    "spy_returns_df.head()"
   ]
  }
 ],
 "metadata": {
  "kernelspec": {
   "display_name": "venv",
   "language": "python",
   "name": "python3"
  },
  "language_info": {
   "codemirror_mode": {
    "name": "ipython",
    "version": 3
   },
   "file_extension": ".py",
   "mimetype": "text/x-python",
   "name": "python",
   "nbconvert_exporter": "python",
   "pygments_lexer": "ipython3",
   "version": "3.13.5"
  }
 },
 "nbformat": 4,
 "nbformat_minor": 5
}
