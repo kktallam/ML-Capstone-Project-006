{
 "cells": [
  {
   "cell_type": "code",
   "execution_count": 13,
   "id": "2f4a7a4c",
   "metadata": {},
   "outputs": [],
   "source": [
    "import sys\n",
    "import os\n",
    "import pprint\n",
    "import pandas as pd\n",
    "from pandarallel import pandarallel"
   ]
  },
  {
   "cell_type": "code",
   "execution_count": 3,
   "id": "d21c4734",
   "metadata": {},
   "outputs": [],
   "source": [
    "path_to_talla = os.path.abspath(os.path.join(os.getcwd(), '..', '..'))"
   ]
  },
  {
   "cell_type": "code",
   "execution_count": 4,
   "id": "d02f1822",
   "metadata": {},
   "outputs": [],
   "source": [
    "if path_to_talla not in sys.path:\n",
    "    sys.path.append(path_to_talla)"
   ]
  },
  {
   "cell_type": "code",
   "execution_count": 5,
   "id": "099ae5b6",
   "metadata": {},
   "outputs": [],
   "source": [
    "from FinABSA.FinABSA import ABSA"
   ]
  },
  {
   "cell_type": "code",
   "execution_count": 10,
   "id": "d7e790b6",
   "metadata": {},
   "outputs": [],
   "source": [
    "news = pd.read_csv('../data/guardian_financial_news_master.csv')\n",
    "test = news.iloc[0:10]"
   ]
  },
  {
   "cell_type": "code",
   "execution_count": 11,
   "id": "a6445b32",
   "metadata": {},
   "outputs": [
    {
     "data": {
      "text/html": [
       "<div>\n",
       "<style scoped>\n",
       "    .dataframe tbody tr th:only-of-type {\n",
       "        vertical-align: middle;\n",
       "    }\n",
       "\n",
       "    .dataframe tbody tr th {\n",
       "        vertical-align: top;\n",
       "    }\n",
       "\n",
       "    .dataframe thead th {\n",
       "        text-align: right;\n",
       "    }\n",
       "</style>\n",
       "<table border=\"1\" class=\"dataframe\">\n",
       "  <thead>\n",
       "    <tr style=\"text-align: right;\">\n",
       "      <th></th>\n",
       "      <th>url</th>\n",
       "      <th>title</th>\n",
       "      <th>pub_date</th>\n",
       "      <th>summary</th>\n",
       "      <th>body</th>\n",
       "    </tr>\n",
       "  </thead>\n",
       "  <tbody>\n",
       "    <tr>\n",
       "      <th>0</th>\n",
       "      <td>https://www.theguardian.com/technology/2025/fe...</td>\n",
       "      <td>AI tools used for child sexual abuse images ta...</td>\n",
       "      <td>2025-02-01T22:00:53Z</td>\n",
       "      <td>UK will be first country to bring in tough new...</td>\n",
       "      <td>Britain is to become the first country to intr...</td>\n",
       "    </tr>\n",
       "    <tr>\n",
       "      <th>1</th>\n",
       "      <td>https://www.theguardian.com/technology/2025/fe...</td>\n",
       "      <td>As DeepSeek upends the AI industry, one group ...</td>\n",
       "      <td>2025-02-01T19:00:49Z</td>\n",
       "      <td>Recruiting top graduates could stop other coun...</td>\n",
       "      <td>One Australian company has discouraged staff f...</td>\n",
       "    </tr>\n",
       "    <tr>\n",
       "      <th>2</th>\n",
       "      <td>https://www.theguardian.com/technology/2025/fe...</td>\n",
       "      <td>Was this the week DeepSeek started the slow un...</td>\n",
       "      <td>2025-02-01T16:51:23Z</td>\n",
       "      <td>The cheap Chinese chatbot has stunned tech gia...</td>\n",
       "      <td>At 2.16pm California time last Sunday, the US ...</td>\n",
       "    </tr>\n",
       "    <tr>\n",
       "      <th>3</th>\n",
       "      <td>https://www.theguardian.com/technology/2025/fe...</td>\n",
       "      <td>AI is not just powerful. What’s really worryin...</td>\n",
       "      <td>2025-02-01T16:00:46Z</td>\n",
       "      <td>The AI startup has upended the industry by dev...</td>\n",
       "      <td>Nothing cheers up a tech columnist more than t...</td>\n",
       "    </tr>\n",
       "    <tr>\n",
       "      <th>4</th>\n",
       "      <td>https://www.theguardian.com/technology/2025/fe...</td>\n",
       "      <td>DeepSeek, ChatGPT, Grok … which is the best AI...</td>\n",
       "      <td>2025-02-01T12:00:42Z</td>\n",
       "      <td>Chatbots we tested can write a mean sonnet and...</td>\n",
       "      <td>ChatGPT and its owners must have hoped it was ...</td>\n",
       "    </tr>\n",
       "    <tr>\n",
       "      <th>5</th>\n",
       "      <td>https://www.theguardian.com/business/2025/feb/...</td>\n",
       "      <td>‘Dark and dingy’ or ‘a real loss’? Shoppers re...</td>\n",
       "      <td>2025-02-01T10:00:38Z</td>\n",
       "      <td>Stevenage is one of 500 UK towns where threate...</td>\n",
       "      <td>Just two shop floor staff are on duty and shop...</td>\n",
       "    </tr>\n",
       "    <tr>\n",
       "      <th>6</th>\n",
       "      <td>https://www.theguardian.com/business/2025/feb/...</td>\n",
       "      <td>Small UK businesses complain of being caught u...</td>\n",
       "      <td>2025-02-01T07:00:35Z</td>\n",
       "      <td>New safety regulations have led SMEs to stop s...</td>\n",
       "      <td>Small businesses are warning they have had to ...</td>\n",
       "    </tr>\n",
       "    <tr>\n",
       "      <th>7</th>\n",
       "      <td>https://www.theguardian.com/technology/2025/ja...</td>\n",
       "      <td>Italian investigative journalist targeted on W...</td>\n",
       "      <td>2025-01-31T23:46:26Z</td>\n",
       "      <td>Francesco Cancellato, whose reporting exposes ...</td>\n",
       "      <td>An Italian investigative journalist who is kno...</td>\n",
       "    </tr>\n",
       "    <tr>\n",
       "      <th>8</th>\n",
       "      <td>https://www.theguardian.com/environment/2025/j...</td>\n",
       "      <td>‘We’d go absolutely nuts’: PM warned of Labour...</td>\n",
       "      <td>2025-01-31T17:59:59Z</td>\n",
       "      <td>Exclusive: MPs and ministers say they would op...</td>\n",
       "      <td>Senior Labour figures are warning of a serious...</td>\n",
       "    </tr>\n",
       "    <tr>\n",
       "      <th>9</th>\n",
       "      <td>https://www.theguardian.com/technology/2025/ja...</td>\n",
       "      <td>Ed Ferrett obituary</td>\n",
       "      <td>2025-01-31T17:45:35Z</td>\n",
       "      <td>&lt;strong&gt;Other lives:&lt;/strong&gt; Engineering and ...</td>\n",
       "      <td>My father, Ed Ferrett, who has died aged 83, w...</td>\n",
       "    </tr>\n",
       "  </tbody>\n",
       "</table>\n",
       "</div>"
      ],
      "text/plain": [
       "                                                 url  \\\n",
       "0  https://www.theguardian.com/technology/2025/fe...   \n",
       "1  https://www.theguardian.com/technology/2025/fe...   \n",
       "2  https://www.theguardian.com/technology/2025/fe...   \n",
       "3  https://www.theguardian.com/technology/2025/fe...   \n",
       "4  https://www.theguardian.com/technology/2025/fe...   \n",
       "5  https://www.theguardian.com/business/2025/feb/...   \n",
       "6  https://www.theguardian.com/business/2025/feb/...   \n",
       "7  https://www.theguardian.com/technology/2025/ja...   \n",
       "8  https://www.theguardian.com/environment/2025/j...   \n",
       "9  https://www.theguardian.com/technology/2025/ja...   \n",
       "\n",
       "                                               title              pub_date  \\\n",
       "0  AI tools used for child sexual abuse images ta...  2025-02-01T22:00:53Z   \n",
       "1  As DeepSeek upends the AI industry, one group ...  2025-02-01T19:00:49Z   \n",
       "2  Was this the week DeepSeek started the slow un...  2025-02-01T16:51:23Z   \n",
       "3  AI is not just powerful. What’s really worryin...  2025-02-01T16:00:46Z   \n",
       "4  DeepSeek, ChatGPT, Grok … which is the best AI...  2025-02-01T12:00:42Z   \n",
       "5  ‘Dark and dingy’ or ‘a real loss’? Shoppers re...  2025-02-01T10:00:38Z   \n",
       "6  Small UK businesses complain of being caught u...  2025-02-01T07:00:35Z   \n",
       "7  Italian investigative journalist targeted on W...  2025-01-31T23:46:26Z   \n",
       "8  ‘We’d go absolutely nuts’: PM warned of Labour...  2025-01-31T17:59:59Z   \n",
       "9                                Ed Ferrett obituary  2025-01-31T17:45:35Z   \n",
       "\n",
       "                                             summary  \\\n",
       "0  UK will be first country to bring in tough new...   \n",
       "1  Recruiting top graduates could stop other coun...   \n",
       "2  The cheap Chinese chatbot has stunned tech gia...   \n",
       "3  The AI startup has upended the industry by dev...   \n",
       "4  Chatbots we tested can write a mean sonnet and...   \n",
       "5  Stevenage is one of 500 UK towns where threate...   \n",
       "6  New safety regulations have led SMEs to stop s...   \n",
       "7  Francesco Cancellato, whose reporting exposes ...   \n",
       "8  Exclusive: MPs and ministers say they would op...   \n",
       "9  <strong>Other lives:</strong> Engineering and ...   \n",
       "\n",
       "                                                body  \n",
       "0  Britain is to become the first country to intr...  \n",
       "1  One Australian company has discouraged staff f...  \n",
       "2  At 2.16pm California time last Sunday, the US ...  \n",
       "3  Nothing cheers up a tech columnist more than t...  \n",
       "4  ChatGPT and its owners must have hoped it was ...  \n",
       "5  Just two shop floor staff are on duty and shop...  \n",
       "6  Small businesses are warning they have had to ...  \n",
       "7  An Italian investigative journalist who is kno...  \n",
       "8  Senior Labour figures are warning of a serious...  \n",
       "9  My father, Ed Ferrett, who has died aged 83, w...  "
      ]
     },
     "execution_count": 11,
     "metadata": {},
     "output_type": "execute_result"
    }
   ],
   "source": [
    "test"
   ]
  },
  {
   "cell_type": "code",
   "execution_count": 15,
   "id": "08513b94",
   "metadata": {},
   "outputs": [],
   "source": [
    "def sentiment_model(text, absa):\n",
    "    o = absa.run_absa(input_str = text)\n",
    "    return o"
   ]
  },
  {
   "cell_type": "code",
   "execution_count": null,
   "id": "f07836cb",
   "metadata": {},
   "outputs": [
    {
     "name": "stdout",
     "output_type": "stream",
     "text": [
      "INFO: Pandarallel will run on 4 workers.\n",
      "INFO: Pandarallel will use standard multiprocessing data transfer (pipe) to transfer data between the main process and workers.\n",
      "\n",
      "WARNING: You are on Windows. If you detect any issue with pandarallel, be sure you checked out the Troubleshooting page:\n",
      "https://nalepae.github.io/pandarallel/troubleshooting/\n",
      "\n",
      "--- Running with pandarallel ---\n",
      "2025-10-29 12:47:01,806 SequenceTagger predicts: Dictionary with 20 tags: <unk>, O, S-ORG, S-MISC, B-PER, E-PER, S-LOC, B-ORG, E-ORG, I-PER, S-PER, B-MISC, I-MISC, E-MISC, I-ORG, B-LOC, E-LOC, I-LOC, <START>, <STOP>\n"
     ]
    },
    {
     "data": {
      "application/vnd.jupyter.widget-view+json": {
       "model_id": "3324289eef2b449cabd48223dd227bb9",
       "version_major": 2,
       "version_minor": 0
      },
      "text/plain": [
       "VBox(children=(HBox(children=(IntProgress(value=0, description='0.00%', max=3), Label(value='0 / 3'))), HBox(c…"
      ]
     },
     "metadata": {},
     "output_type": "display_data"
    }
   ],
   "source": [
    "#RUN CODE WITHOUT PANDARALLEL (CAUSING ISSUES)\n",
    "pandarallel.initialize(progress_bar=True)\n",
    "\n",
    "print(\"\\n--- Running with pandarallel ---\")\n",
    "\n",
    "# 1. Apply the model in parallel. \n",
    "# We just change .apply() to .parallel_apply()\n",
    "absa = ABSA()\n",
    "test['sentiment_results'] = test['body'].parallel_apply(sentiment_model, args=(absa,))\n",
    "\n",
    "# 2. The un-nesting logic is identical to the previous pandas solution.\n",
    "# This part is very fast and doesn't need to be parallelized.\n",
    "long_series = test.set_index('date')['sentiment_results'].apply(pd.Series).stack()\n",
    "\n",
    "# 3. Convert the Series to a DataFrame and fix column names\n",
    "long_df = long_series.reset_index()\n",
    "long_df.columns = ['date', 'entity', 'details']\n",
    "\n",
    "# 4. Split the 'details' column\n",
    "long_df['classification'] = long_df['details'].apply(lambda x: x['classification_output'])\n",
    "long_df['softmax_scores'] = long_df['details'].apply(lambda x: x['logits'])\n",
    "\n",
    "# 5. Drop the intermediate 'details' column\n",
    "final_df_pandarallel = long_df.drop(columns='details')\n",
    "\n",
    "print(\"\\n--- Final DataFrame (from pandarallel) ---\")\n",
    "print(final_df_pandarallel)"
   ]
  },
  {
   "cell_type": "code",
   "execution_count": null,
   "id": "f77371cb",
   "metadata": {},
   "outputs": [
    {
     "name": "stdout",
     "output_type": "stream",
     "text": [
      "2025-10-14 14:46:06,571 SequenceTagger predicts: Dictionary with 20 tags: <unk>, O, S-ORG, S-MISC, B-PER, E-PER, S-LOC, B-ORG, E-ORG, I-PER, S-PER, B-MISC, I-MISC, E-MISC, I-ORG, B-LOC, E-LOC, I-LOC, <START>, <STOP>\n"
     ]
    },
    {
     "name": "stderr",
     "output_type": "stream",
     "text": [
      "Token indices sequence length is longer than the specified maximum sequence length for this model (1027 > 512). Running this sequence through the model will result in indexing errors\n"
     ]
    },
    {
     "name": "stdout",
     "output_type": "stream",
     "text": [
      "{'AI': {'classification_output': 'POSITIVE',\n",
      "        'logits': {'negative': 0.005481464322656393,\n",
      "                   'neutral': 0.17708371579647064,\n",
      "                   'positive': 0.8174348473548889}},\n",
      " 'Bell': {'classification_output': 'NEUTRAL',\n",
      "          'logits': {'negative': 0.0036934372037649155,\n",
      "                     'neutral': 0.7652527689933777,\n",
      "                     'positive': 0.23105382919311523}},\n",
      " 'BlackRock Investment Institute': {'classification_output': 'NEUTRAL',\n",
      "                                    'logits': {'negative': 0.0007032313151285052,\n",
      "                                               'neutral': 0.9853926301002502,\n",
      "                                               'positive': 0.013904097490012646}},\n",
      " 'Cessna': {'classification_output': 'NEUTRAL',\n",
      "            'logits': {'negative': 0.004992321133613586,\n",
      "                       'neutral': 0.757658064365387,\n",
      "                       'positive': 0.23734962940216064}},\n",
      " 'Charmin': {'classification_output': 'NEUTRAL',\n",
      "             'logits': {'negative': 0.0018633826402947307,\n",
      "                        'neutral': 0.7825534343719482,\n",
      "                        'positive': 0.21558323502540588}},\n",
      " 'Crest': {'classification_output': 'NEUTRAL',\n",
      "           'logits': {'negative': 0.005312805995345116,\n",
      "                      'neutral': 0.5353785753250122,\n",
      "                      'positive': 0.4593086540699005}},\n",
      " 'Dow Jones Industrial Average': {'classification_output': 'POSITIVE',\n",
      "                                  'logits': {'negative': 0.0001810357061913237,\n",
      "                                             'neutral': 0.0032717259600758553,\n",
      "                                             'positive': 0.996547281742096}},\n",
      " 'Nasdaq': {'classification_output': 'POSITIVE',\n",
      "            'logits': {'negative': 0.0017384401289746165,\n",
      "                       'neutral': 0.03558745235204697,\n",
      "                       'positive': 0.962674081325531}},\n",
      " 'Netflix': {'classification_output': 'POSITIVE',\n",
      "             'logits': {'negative': 0.00031907757511362433,\n",
      "                        'neutral': 0.002922788029536605,\n",
      "                        'positive': 0.9967581629753113}},\n",
      " 'Nvidia': {'classification_output': 'POSITIVE',\n",
      "            'logits': {'negative': 0.008315925486385822,\n",
      "                       'neutral': 0.4438346326351166,\n",
      "                       'positive': 0.5478494167327881}},\n",
      " 'OpenAI': {'classification_output': 'NEUTRAL',\n",
      "            'logits': {'negative': 0.0026269841473549604,\n",
      "                       'neutral': 0.5272397398948669,\n",
      "                       'positive': 0.4701332151889801}},\n",
      " 'Oracle': {'classification_output': 'POSITIVE',\n",
      "            'logits': {'negative': 0.0014841622905805707,\n",
      "                       'neutral': 0.020095476880669594,\n",
      "                       'positive': 0.9784203171730042}},\n",
      " 'Pampers': {'classification_output': 'NEUTRAL',\n",
      "             'logits': {'negative': 0.003882029792293906,\n",
      "                        'neutral': 0.6248741149902344,\n",
      "                        'positive': 0.3712438941001892}},\n",
      " 'Procter & Gamble': {'classification_output': 'POSITIVE',\n",
      "                      'logits': {'negative': 0.0004924822715111077,\n",
      "                                 'neutral': 0.031265921890735626,\n",
      "                                 'positive': 0.9682415723800659}},\n",
      " 'SoftBank': {'classification_output': 'POSITIVE',\n",
      "              'logits': {'negative': 0.0015582726337015629,\n",
      "                         'neutral': 0.28999340534210205,\n",
      "                         'positive': 0.7084483504295349}},\n",
      " 'SoftBank Group Corp.’s': {'classification_output': 'POSITIVE',\n",
      "                            'logits': {'negative': 0.0030414194334298372,\n",
      "                                       'neutral': 0.42925307154655457,\n",
      "                                       'positive': 0.5677055716514587}},\n",
      " 'Stargate': {'classification_output': 'NEUTRAL',\n",
      "              'logits': {'negative': 0.00040407758206129074,\n",
      "                         'neutral': 0.9872796535491943,\n",
      "                         'positive': 0.012316257692873478}},\n",
      " 'Textron': {'classification_output': 'NEGATIVE',\n",
      "             'logits': {'negative': 0.67935711145401,\n",
      "                        'neutral': 0.2703739404678345,\n",
      "                        'positive': 0.050268929451704025}},\n",
      " 'Treasury': {'classification_output': 'POSITIVE',\n",
      "              'logits': {'negative': 0.0031547292601317167,\n",
      "                         'neutral': 0.010283526964485645,\n",
      "                         'positive': 0.9865617156028748}}}\n"
     ]
    }
   ],
   "source": [
    "absa = ABSA()\n",
    "o = absa.run_absa(input_str = text)\n",
    "pprint.pprint(o)"
   ]
  },
  {
   "cell_type": "code",
   "execution_count": 8,
   "id": "b6ba4c43",
   "metadata": {},
   "outputs": [
    {
     "data": {
      "text/plain": [
       "dict_keys(['Netflix', 'Oracle', 'Dow Jones Industrial Average', 'Nasdaq', 'Treasury', 'Procter & Gamble', 'Charmin', 'Crest', 'Pampers', 'Stargate', 'AI', 'OpenAI', 'SoftBank', 'SoftBank Group Corp.’s', 'Nvidia', 'Textron', 'Bell', 'Cessna', 'BlackRock Investment Institute'])"
      ]
     },
     "execution_count": 8,
     "metadata": {},
     "output_type": "execute_result"
    }
   ],
   "source": [
    "o.keys()"
   ]
  },
  {
   "cell_type": "markdown",
   "id": "10fba5a2",
   "metadata": {},
   "source": [
    "import torch\n",
    "path_to_finentity = os.path.join(path_to_talla, 'FinEntity')\n",
    "\n",
    "if path_to_finentity not in sys.path:\n",
    "    sys.path.append(path_to_finentity)\n"
   ]
  },
  {
   "cell_type": "markdown",
   "id": "864657b9",
   "metadata": {},
   "source": [
    "# Now, open the file using the full path\n",
    "model_file_path = os.path.join(path_to_finentity, 'model_bert_crf')\n",
    "import pickle\n",
    "import io\n",
    "class CPU_Unpickler(pickle.Unpickler):\n",
    "    def find_class(self, module, name):\n",
    "        if module == 'torch.storage' and name == '_load_from_bytes':\n",
    "            # Intercept the problematic function and rewrite it to use CPU\n",
    "            return lambda b: torch.load(io.BytesIO(b), map_location='cpu', weights_only=False)\n",
    "        else:\n",
    "            return super().find_class(module, name)\n",
    "\n",
    "# --- Load the model using the custom unpickler ---\n",
    "print(f\"Loading model from: {model_file_path}\")\n",
    "try:\n",
    "    with open(model_file_path, 'rb') as f:\n",
    "        model = CPU_Unpickler(f).load()\n",
    "    \n",
    "    print(\"Model loaded successfully using custom CPU unpickler!\")\n",
    "\n",
    "except Exception as e:\n",
    "    print(f\"An error occurred: {e}\")"
   ]
  },
  {
   "cell_type": "markdown",
   "id": "41d0695f",
   "metadata": {},
   "source": [
    "import json\n",
    "from sequence_aligner.dataset import PredictDatasetCRF\n",
    "from sequence_aligner.containers import TraingingBatch,PredictBatch\n",
    "from transformers import BertTokenizerFast\n",
    "from sequence_aligner.labelset import LabelSet\n",
    "from util.train import predict,predict4news\n",
    "from torch import cuda\n",
    "import warnings\n",
    "warnings.filterwarnings('ignore')\n",
    "\n",
    "f3 = open(path_to_finentity+'/news_data/20230105.json', 'r', encoding='utf8')\n",
    "content3 = f3.read() \n",
    "raw = json.loads(content3)\n",
    "data = [example for example in raw if example[\"content\"]!= None and example[\"content\"]!=[]]\n",
    "\n",
    "\n",
    "save_list = []\n",
    "tokenizer = BertTokenizerFast.from_pretrained('yiyanghkust/finbert-pretrain')\n",
    "label_set = LabelSet(labels=[\"Neutral\", \"Positive\", \"Negative\"])  # label in this dataset\n",
    "model.to('cpu')\n",
    "\n",
    "'''\n",
    "for item in data:\n",
    "    predict4news(model,item,device,tokenizer,label_set,save_list)\n",
    "'''"
   ]
  },
  {
   "cell_type": "code",
   "execution_count": null,
   "id": "a3c04366",
   "metadata": {},
   "outputs": [],
   "source": []
  }
 ],
 "metadata": {
  "kernelspec": {
   "display_name": "venv",
   "language": "python",
   "name": "python3"
  },
  "language_info": {
   "codemirror_mode": {
    "name": "ipython",
    "version": 3
   },
   "file_extension": ".py",
   "mimetype": "text/x-python",
   "name": "python",
   "nbconvert_exporter": "python",
   "pygments_lexer": "ipython3",
   "version": "3.13.5"
  }
 },
 "nbformat": 4,
 "nbformat_minor": 5
}
