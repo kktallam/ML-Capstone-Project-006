{
 "cells": [
  {
   "cell_type": "code",
   "execution_count": 2,
   "id": "2f4a7a4c",
   "metadata": {},
   "outputs": [],
   "source": [
    "import sys\n",
    "import os\n",
    "import pprint\n",
    "import pandas as pd"
   ]
  },
  {
   "cell_type": "code",
   "execution_count": 3,
   "id": "d21c4734",
   "metadata": {},
   "outputs": [],
   "source": [
    "path_to_talla = os.path.abspath(os.path.join(os.getcwd(), '..', '..'))"
   ]
  },
  {
   "cell_type": "code",
   "execution_count": 4,
   "id": "d02f1822",
   "metadata": {},
   "outputs": [],
   "source": [
    "if path_to_talla not in sys.path:\n",
    "    sys.path.append(path_to_talla)"
   ]
  },
  {
   "cell_type": "code",
   "execution_count": 5,
   "id": "099ae5b6",
   "metadata": {},
   "outputs": [],
   "source": [
    "from FinABSA.FinABSA import ABSA"
   ]
  },
  {
   "cell_type": "code",
   "execution_count": 6,
   "id": "d7e790b6",
   "metadata": {},
   "outputs": [],
   "source": [
    "news = pd.read_csv('../data/newsbank_articles.csv')"
   ]
  },
  {
   "cell_type": "code",
   "execution_count": 7,
   "id": "a6445b32",
   "metadata": {},
   "outputs": [
    {
     "name": "stdout",
     "output_type": "stream",
     "text": [
      "Netflix, Oracle and other big technology stocks lifted Wall Street Wednesday as their profits pile higher and excitement builds around the moneymaking prospects of artificial intelligence. The S&P 500 rose 0.6% and came close to its all-time closing high set early last month. The Dow Jones Industrial Average added 130 points, or 0.3%, and the Nasdaq composite climbed 1.3%. The gains came even though most U.S. stocks fell under the weight of another crank higher for Treasury yields in the bond market. The smaller stocks in the Russell 2000 index lost 0.6%, for example, and roughly two out of every three stocks in the S&P 500 sank. Gains for big, influential stocks were more than enough to make up for it. Netflix helped lead the way after it said live events like football games and a Mike Tyson-Jake Paul fight helped it add nearly 19 million subscribers during the latest quarter. Oracle added 6.8% following its 7.2% rise the day before, ahead of the expected announcement about Stargate, a joint venture involving Oracle, OpenAI and SoftBank to invest up to $500 billion in AI infrastructure in Texas.\n"
     ]
    }
   ],
   "source": [
    "print(news['Content'][5])"
   ]
  },
  {
   "cell_type": "code",
   "execution_count": 8,
   "id": "f77371cb",
   "metadata": {},
   "outputs": [
    {
     "name": "stdout",
     "output_type": "stream",
     "text": [
      "2025-10-14 13:50:02,597 SequenceTagger predicts: Dictionary with 20 tags: <unk>, O, S-ORG, S-MISC, B-PER, E-PER, S-LOC, B-ORG, E-ORG, I-PER, S-PER, B-MISC, I-MISC, E-MISC, I-ORG, B-LOC, E-LOC, I-LOC, <START>, <STOP>\n",
      "{'Dow Jones Industrial Average': {'classification_output': 'POSITIVE',\n",
      "                                  'logits': {'negative': 2.559057429607492e-05,\n",
      "                                             'neutral': 0.020032662898302078,\n",
      "                                             'positive': 0.979941725730896}},\n",
      " 'Nasdaq': {'classification_output': 'NEUTRAL',\n",
      "            'logits': {'negative': 0.0002637641446199268,\n",
      "                       'neutral': 0.8772879242897034,\n",
      "                       'positive': 0.12244825065135956}},\n",
      " 'Netflix': {'classification_output': 'POSITIVE',\n",
      "             'logits': {'negative': 2.174526161979884e-05,\n",
      "                        'neutral': 0.00019207052537240088,\n",
      "                        'positive': 0.9997861981391907}},\n",
      " 'OpenAI': {'classification_output': 'NEUTRAL',\n",
      "            'logits': {'negative': 2.847660653060302e-05,\n",
      "                       'neutral': 0.9989888072013855,\n",
      "                       'positive': 0.0009827007306739688}},\n",
      " 'Oracle': {'classification_output': 'POSITIVE',\n",
      "            'logits': {'negative': 1.0512867447687313e-05,\n",
      "                       'neutral': 0.00027647375827655196,\n",
      "                       'positive': 0.9997130036354065}},\n",
      " 'SoftBank': {'classification_output': 'NEUTRAL',\n",
      "              'logits': {'negative': 1.927487573993858e-05,\n",
      "                         'neutral': 0.9994018077850342,\n",
      "                         'positive': 0.0005788874696008861}},\n",
      " 'Stargate': {'classification_output': 'NEUTRAL',\n",
      "              'logits': {'negative': 1.6379242879338562e-05,\n",
      "                         'neutral': 0.9997532963752747,\n",
      "                         'positive': 0.0002302709617651999}},\n",
      " 'Treasury': {'classification_output': 'NEUTRAL',\n",
      "              'logits': {'negative': 0.0004398709279485047,\n",
      "                         'neutral': 0.9181886315345764,\n",
      "                         'positive': 0.0813714861869812}}}\n"
     ]
    }
   ],
   "source": [
    "absa = ABSA()\n",
    "o = absa.run_absa(\n",
    "                input_str = news['Content'][5]\n",
    "                )\n",
    "pprint.pprint(o)"
   ]
  },
  {
   "cell_type": "code",
   "execution_count": 9,
   "id": "b6ba4c43",
   "metadata": {},
   "outputs": [
    {
     "data": {
      "text/plain": [
       "dict_keys(['Netflix', 'Oracle', 'Dow Jones Industrial Average', 'Nasdaq', 'Treasury', 'Stargate', 'OpenAI', 'SoftBank'])"
      ]
     },
     "execution_count": 9,
     "metadata": {},
     "output_type": "execute_result"
    }
   ],
   "source": [
    "o.keys()"
   ]
  },
  {
   "cell_type": "code",
   "execution_count": 1,
   "id": "10fba5a2",
   "metadata": {},
   "outputs": [
    {
     "ename": "NameError",
     "evalue": "name 'os' is not defined",
     "output_type": "error",
     "traceback": [
      "\u001b[31m---------------------------------------------------------------------------\u001b[39m",
      "\u001b[31mNameError\u001b[39m                                 Traceback (most recent call last)",
      "\u001b[36mCell\u001b[39m\u001b[36m \u001b[39m\u001b[32mIn[1]\u001b[39m\u001b[32m, line 2\u001b[39m\n\u001b[32m      1\u001b[39m \u001b[38;5;28;01mimport\u001b[39;00m\u001b[38;5;250m \u001b[39m\u001b[34;01mtorch\u001b[39;00m\n\u001b[32m----> \u001b[39m\u001b[32m2\u001b[39m path_to_finentity = \u001b[43mos\u001b[49m.path.join(path_to_talla, \u001b[33m'\u001b[39m\u001b[33mFinEntity\u001b[39m\u001b[33m'\u001b[39m)\n\u001b[32m      4\u001b[39m \u001b[38;5;28;01mif\u001b[39;00m path_to_finentity \u001b[38;5;129;01mnot\u001b[39;00m \u001b[38;5;129;01min\u001b[39;00m sys.path:\n\u001b[32m      5\u001b[39m     sys.path.append(path_to_finentity)\n",
      "\u001b[31mNameError\u001b[39m: name 'os' is not defined"
     ]
    }
   ],
   "source": [
    "import torch\n",
    "path_to_finentity = os.path.join(path_to_talla, 'FinEntity')\n",
    "\n",
    "if path_to_finentity not in sys.path:\n",
    "    sys.path.append(path_to_finentity)\n"
   ]
  },
  {
   "cell_type": "code",
   "execution_count": 36,
   "id": "864657b9",
   "metadata": {},
   "outputs": [
    {
     "name": "stdout",
     "output_type": "stream",
     "text": [
      "Loading model from: c:\\Users\\talla\\FinEntity\\model_bert_crf\n",
      "Model loaded successfully using custom CPU unpickler!\n"
     ]
    }
   ],
   "source": [
    "# Now, open the file using the full path\n",
    "model_file_path = os.path.join(path_to_finentity, 'model_bert_crf')\n",
    "import pickle\n",
    "import io\n",
    "class CPU_Unpickler(pickle.Unpickler):\n",
    "    def find_class(self, module, name):\n",
    "        if module == 'torch.storage' and name == '_load_from_bytes':\n",
    "            # Intercept the problematic function and rewrite it to use CPU\n",
    "            return lambda b: torch.load(io.BytesIO(b), map_location='cpu', weights_only=False)\n",
    "        else:\n",
    "            return super().find_class(module, name)\n",
    "\n",
    "# --- Load the model using the custom unpickler ---\n",
    "print(f\"Loading model from: {model_file_path}\")\n",
    "try:\n",
    "    with open(model_file_path, 'rb') as f:\n",
    "        model = CPU_Unpickler(f).load()\n",
    "    \n",
    "    print(\"Model loaded successfully using custom CPU unpickler!\")\n",
    "\n",
    "except Exception as e:\n",
    "    print(f\"An error occurred: {e}\")"
   ]
  },
  {
   "cell_type": "code",
   "execution_count": 2,
   "id": "41d0695f",
   "metadata": {},
   "outputs": [
    {
     "ename": "ModuleNotFoundError",
     "evalue": "No module named 'sequence_aligner'",
     "output_type": "error",
     "traceback": [
      "\u001b[31m---------------------------------------------------------------------------\u001b[39m",
      "\u001b[31mModuleNotFoundError\u001b[39m                       Traceback (most recent call last)",
      "\u001b[36mCell\u001b[39m\u001b[36m \u001b[39m\u001b[32mIn[2]\u001b[39m\u001b[32m, line 2\u001b[39m\n\u001b[32m      1\u001b[39m \u001b[38;5;28;01mimport\u001b[39;00m\u001b[38;5;250m \u001b[39m\u001b[34;01mjson\u001b[39;00m\n\u001b[32m----> \u001b[39m\u001b[32m2\u001b[39m \u001b[38;5;28;01mfrom\u001b[39;00m\u001b[38;5;250m \u001b[39m\u001b[34;01msequence_aligner\u001b[39;00m\u001b[34;01m.\u001b[39;00m\u001b[34;01mdataset\u001b[39;00m\u001b[38;5;250m \u001b[39m\u001b[38;5;28;01mimport\u001b[39;00m PredictDatasetCRF\n\u001b[32m      3\u001b[39m \u001b[38;5;28;01mfrom\u001b[39;00m\u001b[38;5;250m \u001b[39m\u001b[34;01msequence_aligner\u001b[39;00m\u001b[34;01m.\u001b[39;00m\u001b[34;01mcontainers\u001b[39;00m\u001b[38;5;250m \u001b[39m\u001b[38;5;28;01mimport\u001b[39;00m TraingingBatch,PredictBatch\n\u001b[32m      4\u001b[39m \u001b[38;5;28;01mfrom\u001b[39;00m\u001b[38;5;250m \u001b[39m\u001b[34;01mtransformers\u001b[39;00m\u001b[38;5;250m \u001b[39m\u001b[38;5;28;01mimport\u001b[39;00m BertTokenizerFast\n",
      "\u001b[31mModuleNotFoundError\u001b[39m: No module named 'sequence_aligner'"
     ]
    }
   ],
   "source": [
    "import json\n",
    "from sequence_aligner.dataset import PredictDatasetCRF\n",
    "from sequence_aligner.containers import TraingingBatch,PredictBatch\n",
    "from transformers import BertTokenizerFast\n",
    "from sequence_aligner.labelset import LabelSet\n",
    "from util.train import predict,predict4news\n",
    "from torch import cuda\n",
    "import warnings\n",
    "warnings.filterwarnings('ignore')\n",
    "\n",
    "f3 = open(path_to_finentity+'/news_data/20230105.json', 'r', encoding='utf8')\n",
    "content3 = f3.read() \n",
    "raw = json.loads(content3)\n",
    "data = [example for example in raw if example[\"content\"]!= None and example[\"content\"]!=[]]\n",
    "\n",
    "\n",
    "save_list = []\n",
    "tokenizer = BertTokenizerFast.from_pretrained('yiyanghkust/finbert-pretrain')\n",
    "label_set = LabelSet(labels=[\"Neutral\", \"Positive\", \"Negative\"])  # label in this dataset\n",
    "model.to('cpu')\n",
    "\n",
    "'''\n",
    "for item in data:\n",
    "    predict4news(model,item,device,tokenizer,label_set,save_list)\n",
    "'''"
   ]
  },
  {
   "cell_type": "code",
   "execution_count": 1,
   "id": "a7d5ae2b",
   "metadata": {},
   "outputs": [
    {
     "ename": "NameError",
     "evalue": "name 'data' is not defined",
     "output_type": "error",
     "traceback": [
      "\u001b[31m---------------------------------------------------------------------------\u001b[39m",
      "\u001b[31mNameError\u001b[39m                                 Traceback (most recent call last)",
      "\u001b[36mCell\u001b[39m\u001b[36m \u001b[39m\u001b[32mIn[1]\u001b[39m\u001b[32m, line 1\u001b[39m\n\u001b[32m----> \u001b[39m\u001b[32m1\u001b[39m \u001b[43mdata\u001b[49m\n",
      "\u001b[31mNameError\u001b[39m: name 'data' is not defined"
     ]
    }
   ],
   "source": [
    "data"
   ]
  },
  {
   "cell_type": "code",
   "execution_count": null,
   "id": "a3c04366",
   "metadata": {},
   "outputs": [],
   "source": []
  }
 ],
 "metadata": {
  "kernelspec": {
   "display_name": "venv",
   "language": "python",
   "name": "python3"
  },
  "language_info": {
   "codemirror_mode": {
    "name": "ipython",
    "version": 3
   },
   "file_extension": ".py",
   "mimetype": "text/x-python",
   "name": "python",
   "nbconvert_exporter": "python",
   "pygments_lexer": "ipython3",
   "version": "3.13.5"
  }
 },
 "nbformat": 4,
 "nbformat_minor": 5
}
